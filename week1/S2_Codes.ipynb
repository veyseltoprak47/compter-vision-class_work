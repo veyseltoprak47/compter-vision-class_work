{
 "cells": [
  {
   "cell_type": "markdown",
   "metadata": {},
   "source": [
    "# Session 2 Codes"
   ]
  },
  {
   "cell_type": "code",
   "execution_count": 1,
   "metadata": {},
   "outputs": [
    {
     "name": "stdout",
     "output_type": "stream",
     "text": [
      "image array is: [[[217 218 216]\n",
      "  [217 218 216]\n",
      "  [217 218 216]\n",
      "  ...\n",
      "  [167 173 178]\n",
      "  [166 172 177]\n",
      "  [165 171 176]]\n",
      "\n",
      " [[217 218 216]\n",
      "  [217 218 216]\n",
      "  [217 218 216]\n",
      "  ...\n",
      "  [167 173 178]\n",
      "  [166 172 177]\n",
      "  [165 171 176]]\n",
      "\n",
      " [[216 217 215]\n",
      "  [216 217 215]\n",
      "  [216 217 215]\n",
      "  ...\n",
      "  [167 173 178]\n",
      "  [166 172 177]\n",
      "  [165 171 176]]\n",
      "\n",
      " ...\n",
      "\n",
      " [[206 210 211]\n",
      "  [204 208 209]\n",
      "  [200 204 205]\n",
      "  ...\n",
      "  [167 173 180]\n",
      "  [167 173 180]\n",
      "  [167 173 180]]\n",
      "\n",
      " [[203 207 208]\n",
      "  [201 205 206]\n",
      "  [198 202 203]\n",
      "  ...\n",
      "  [167 173 180]\n",
      "  [167 173 180]\n",
      "  [166 172 179]]\n",
      "\n",
      " [[202 206 207]\n",
      "  [200 204 205]\n",
      "  [196 200 201]\n",
      "  ...\n",
      "  [167 173 180]\n",
      "  [167 173 180]\n",
      "  [167 173 180]]]\n",
      "image shape is: (598, 960, 3)\n"
     ]
    }
   ],
   "source": [
    "# dependencies\n",
    "import cv2\n",
    "import numpy as np\n",
    "\n",
    "# reading image\n",
    "image = cv2.imread(\"Lucy.jpg\")\n",
    "print(f\"image array is: {image}\")\n",
    "\n",
    "# showing image\n",
    "cv2.imshow(\"cat\", image)\n",
    "cv2.waitKey(0)\n",
    "cv2.destroyAllWindows()\n",
    "\n",
    "# saving image\n",
    "cv2.imwrite(\"lucy_green.jpg\", image)\n",
    "\n",
    "# shape of the image\n",
    "print(f\"image shape is: {image.shape}\")\n",
    "\n",
    "# channels\n",
    "green_channel = image[:, :, 1]\n",
    "\n",
    "# slicing\n",
    "image[10:500, 100:600, :] = 0"
   ]
  }
 ],
 "metadata": {
  "kernelspec": {
   "display_name": "Python venv_02",
   "language": "python",
   "name": "venv_02"
  },
  "language_info": {
   "codemirror_mode": {
    "name": "ipython",
    "version": 3
   },
   "file_extension": ".py",
   "mimetype": "text/x-python",
   "name": "python",
   "nbconvert_exporter": "python",
   "pygments_lexer": "ipython3",
   "version": "3.9.11"
  }
 },
 "nbformat": 4,
 "nbformat_minor": 2
}
