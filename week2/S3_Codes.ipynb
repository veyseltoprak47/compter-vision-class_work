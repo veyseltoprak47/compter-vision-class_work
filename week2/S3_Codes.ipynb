{
 "cells": [
  {
   "cell_type": "code",
<<<<<<< HEAD
   "execution_count": 17,
=======
   "execution_count": 1,
>>>>>>> d36eb7b33e1b7614e0d28944d8cc4fab3bea3470
   "metadata": {},
   "outputs": [],
   "source": [
    "import cv2\n",
<<<<<<< HEAD
    "import numpy as np"
=======
    "import numpy as np\n",
    "\n",
    "img1 = cv2.imread('Dog and Cat.jpg', cv2.IMREAD_COLOR)\n",
    "img2 = cv2.resize(img1, (500, 500))\n",
    "cv2.imshow('image', img1)\n",
    "cv2.imshow('image2', img2)\n",
    "\n",
    "cv2.waitKey(0)\n",
    "cv2.destroyAllWindows()"
>>>>>>> d36eb7b33e1b7614e0d28944d8cc4fab3bea3470
   ]
  },
  {
   "cell_type": "code",
<<<<<<< HEAD
   "execution_count": 18,
   "metadata": {},
   "outputs": [],
   "source": [
    "img = cv2.imread('Dog and Cat.jpg') \n"
   ]
  },
  {
   "cell_type": "code",
   "execution_count": 19,
   "metadata": {},
   "outputs": [
    {
     "data": {
      "text/plain": [
       "-1"
      ]
     },
     "execution_count": 19,
     "metadata": {},
     "output_type": "execute_result"
    }
   ],
   "source": [
    "cv2.imshow('image', img)\n",
    "cv2.waitKey(0)"
=======
   "execution_count": 51,
   "metadata": {},
   "outputs": [
    {
     "name": "stdout",
     "output_type": "stream",
     "text": [
      "Can't receive frame (stream end?). Exiting ...\n"
     ]
    }
   ],
   "source": [
    "cap= cv2.VideoCapture('./city.mp4')\n",
    "ret, frame=cap.read()\n",
    "while True:\n",
    "  ret, frame=cap.read()\n",
    "  if not ret:\n",
    "    print(\"Can't receive frame (stream end?). Exiting ...\")\n",
    "    break\n",
    "  else:\n",
    "    frame.resize(480, 640)\n",
    "    cv2.imshow('frame', frame)\n",
    "    cv2.waitKey(0)\n",
    "    cap.release()\n",
    "    cv2.destroyAllWindows()\n"
>>>>>>> d36eb7b33e1b7614e0d28944d8cc4fab3bea3470
   ]
  },
  {
   "cell_type": "code",
<<<<<<< HEAD
   "execution_count": 20,
   "metadata": {},
   "outputs": [],
   "source": [
    "\n",
    "cv2.destroyAllWindows()"
   ]
=======
   "execution_count": 46,
   "metadata": {},
   "outputs": [],
   "source": []
  },
  {
   "cell_type": "code",
   "execution_count": 47,
   "metadata": {},
   "outputs": [
    {
     "name": "stdout",
     "output_type": "stream",
     "text": [
      "True\n"
     ]
    }
   ],
   "source": []
  },
  {
   "cell_type": "code",
   "execution_count": 48,
   "metadata": {},
   "outputs": [
    {
     "name": "stdout",
     "output_type": "stream",
     "text": [
      "[[[ 2  0  0]\n",
      "  [ 2  0  0]\n",
      "  [ 2  0  0]\n",
      "  ...\n",
      "  [ 2  0  0]\n",
      "  [ 2  0  0]\n",
      "  [ 2  0  0]]\n",
      "\n",
      " [[ 2  0  0]\n",
      "  [ 2  0  0]\n",
      "  [ 2  0  0]\n",
      "  ...\n",
      "  [ 2  0  0]\n",
      "  [ 2  0  0]\n",
      "  [ 2  0  0]]\n",
      "\n",
      " [[ 2  0  0]\n",
      "  [ 2  0  0]\n",
      "  [ 2  0  0]\n",
      "  ...\n",
      "  [ 2  0  0]\n",
      "  [ 2  0  0]\n",
      "  [ 2  0  0]]\n",
      "\n",
      " ...\n",
      "\n",
      " [[ 0  0 14]\n",
      "  [ 0  0 15]\n",
      "  [ 0  0 15]\n",
      "  ...\n",
      "  [ 0  0 23]\n",
      "  [ 0  0 23]\n",
      "  [ 0  0 23]]\n",
      "\n",
      " [[ 0  0 15]\n",
      "  [ 0  0 15]\n",
      "  [ 0  0 15]\n",
      "  ...\n",
      "  [ 0  0 23]\n",
      "  [ 0  0 23]\n",
      "  [ 0  0 23]]\n",
      "\n",
      " [[ 0  0 15]\n",
      "  [ 0  0 15]\n",
      "  [ 0  0 15]\n",
      "  ...\n",
      "  [ 0  0 23]\n",
      "  [ 0  0 23]\n",
      "  [ 0  0 23]]]\n"
     ]
    }
   ],
   "source": [
    "print(frame)"
   ]
  },
  {
   "cell_type": "code",
   "execution_count": null,
   "metadata": {},
   "outputs": [
    {
     "name": "stdout",
     "output_type": "stream",
     "text": [
      "Can't receive frame (stream end?). Exiting ...\n"
     ]
    }
   ],
   "source": [
    "\n",
    "    \n"
   ]
  },
  {
   "cell_type": "code",
   "execution_count": null,
   "metadata": {},
   "outputs": [],
   "source": []
>>>>>>> d36eb7b33e1b7614e0d28944d8cc4fab3bea3470
  }
 ],
 "metadata": {
  "kernelspec": {
<<<<<<< HEAD
   "display_name": "com_vision_virtualEnv",
=======
   "display_name": "opencv",
>>>>>>> d36eb7b33e1b7614e0d28944d8cc4fab3bea3470
   "language": "python",
   "name": "python3"
  },
  "language_info": {
   "codemirror_mode": {
    "name": "ipython",
    "version": 3
   },
   "file_extension": ".py",
   "mimetype": "text/x-python",
   "name": "python",
   "nbconvert_exporter": "python",
   "pygments_lexer": "ipython3",
<<<<<<< HEAD
   "version": "3.12.6"
=======
   "version": "3.12.8"
>>>>>>> d36eb7b33e1b7614e0d28944d8cc4fab3bea3470
  }
 },
 "nbformat": 4,
 "nbformat_minor": 2
}
