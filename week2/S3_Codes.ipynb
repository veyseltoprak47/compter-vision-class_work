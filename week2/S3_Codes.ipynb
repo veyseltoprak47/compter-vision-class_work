{
 "cells": [
  {
   "cell_type": "code",
   "execution_count": 1,
   "metadata": {},
   "outputs": [],
   "source": [
    "import cv2\n",
    "import numpy as np\n",
    "\n",
    "img1 = cv2.imread('Dog and Cat.jpg', cv2.IMREAD_COLOR)\n",
    "img2 = cv2.resize(img1, (500, 500))\n",
    "cv2.imshow('image', img1)\n",
    "cv2.imshow('image2', img2)\n",
    "\n",
    "cv2.waitKey(0)\n",
    "cv2.destroyAllWindows()"
   ]
  },
  {
   "cell_type": "code",
   "execution_count": 51,
   "metadata": {},
   "outputs": [
    {
     "name": "stdout",
     "output_type": "stream",
     "text": [
      "Can't receive frame (stream end?). Exiting ...\n"
     ]
    }
   ],
   "source": [
    "cap= cv2.VideoCapture('./city.mp4')\n",
    "ret, frame=cap.read()\n",
    "while True:\n",
    "  ret, frame=cap.read()\n",
    "  if not ret:\n",
    "    print(\"Can't receive frame (stream end?). Exiting ...\")\n",
    "    break\n",
    "  else:\n",
    "    frame.resize(480, 640)\n",
    "    cv2.imshow('frame', frame)\n",
    "    cv2.waitKey(0)\n",
    "    cap.release()\n",
    "    cv2.destroyAllWindows()\n"
   ]
  },
  {
   "cell_type": "code",
   "execution_count": 46,
   "metadata": {},
   "outputs": [],
   "source": []
  },
  {
   "cell_type": "code",
   "execution_count": 47,
   "metadata": {},
   "outputs": [
    {
     "name": "stdout",
     "output_type": "stream",
     "text": [
      "True\n"
     ]
    }
   ],
   "source": []
  },
  {
   "cell_type": "code",
   "execution_count": 48,
   "metadata": {},
   "outputs": [
    {
     "name": "stdout",
     "output_type": "stream",
     "text": [
      "[[[ 2  0  0]\n",
      "  [ 2  0  0]\n",
      "  [ 2  0  0]\n",
      "  ...\n",
      "  [ 2  0  0]\n",
      "  [ 2  0  0]\n",
      "  [ 2  0  0]]\n",
      "\n",
      " [[ 2  0  0]\n",
      "  [ 2  0  0]\n",
      "  [ 2  0  0]\n",
      "  ...\n",
      "  [ 2  0  0]\n",
      "  [ 2  0  0]\n",
      "  [ 2  0  0]]\n",
      "\n",
      " [[ 2  0  0]\n",
      "  [ 2  0  0]\n",
      "  [ 2  0  0]\n",
      "  ...\n",
      "  [ 2  0  0]\n",
      "  [ 2  0  0]\n",
      "  [ 2  0  0]]\n",
      "\n",
      " ...\n",
      "\n",
      " [[ 0  0 14]\n",
      "  [ 0  0 15]\n",
      "  [ 0  0 15]\n",
      "  ...\n",
      "  [ 0  0 23]\n",
      "  [ 0  0 23]\n",
      "  [ 0  0 23]]\n",
      "\n",
      " [[ 0  0 15]\n",
      "  [ 0  0 15]\n",
      "  [ 0  0 15]\n",
      "  ...\n",
      "  [ 0  0 23]\n",
      "  [ 0  0 23]\n",
      "  [ 0  0 23]]\n",
      "\n",
      " [[ 0  0 15]\n",
      "  [ 0  0 15]\n",
      "  [ 0  0 15]\n",
      "  ...\n",
      "  [ 0  0 23]\n",
      "  [ 0  0 23]\n",
      "  [ 0  0 23]]]\n"
     ]
    }
   ],
   "source": [
    "print(frame)"
   ]
  },
  {
   "cell_type": "code",
   "execution_count": null,
   "metadata": {},
   "outputs": [
    {
     "name": "stdout",
     "output_type": "stream",
     "text": [
      "Can't receive frame (stream end?). Exiting ...\n"
     ]
    }
   ],
   "source": [
    "\n",
    "    \n"
   ]
  },
  {
   "cell_type": "code",
   "execution_count": null,
   "metadata": {},
   "outputs": [],
   "source": []
  }
 ],
 "metadata": {
  "kernelspec": {
   "display_name": "opencv",
   "language": "python",
   "name": "python3"
  },
  "language_info": {
   "codemirror_mode": {
    "name": "ipython",
    "version": 3
   },
   "file_extension": ".py",
   "mimetype": "text/x-python",
   "name": "python",
   "nbconvert_exporter": "python",
   "pygments_lexer": "ipython3",
   "version": "3.12.8"
  }
 },
 "nbformat": 4,
 "nbformat_minor": 2
}
