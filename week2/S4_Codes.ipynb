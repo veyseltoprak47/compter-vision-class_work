{
 "cells": [
  {
   "cell_type": "code",
   "execution_count": 1,
   "metadata": {},
   "outputs": [],
   "source": [
    "import cv2\n",
    "import numpy as np"
   ]
  },
  {
   "cell_type": "markdown",
   "metadata": {},
   "source": [
    "### Video FPS"
   ]
  },
  {
   "cell_type": "code",
   "execution_count": 83,
   "metadata": {},
   "outputs": [],
   "source": [
    "cap = cv2.VideoCapture(\"city.mp4\")"
   ]
  },
  {
   "cell_type": "code",
   "execution_count": 2,
   "metadata": {},
   "outputs": [
    {
     "ename": "NameError",
     "evalue": "name 'cap' is not defined",
     "output_type": "error",
     "traceback": [
      "\u001b[1;31m---------------------------------------------------------------------------\u001b[0m",
      "\u001b[1;31mNameError\u001b[0m                                 Traceback (most recent call last)",
      "Cell \u001b[1;32mIn[2], line 1\u001b[0m\n\u001b[1;32m----> 1\u001b[0m original_fps \u001b[38;5;241m=\u001b[39m \u001b[38;5;28mint\u001b[39m(\u001b[43mcap\u001b[49m\u001b[38;5;241m.\u001b[39mget(cv2\u001b[38;5;241m.\u001b[39mCAP_PROP_FPS))\n\u001b[0;32m      2\u001b[0m desired_fps \u001b[38;5;241m=\u001b[39m \u001b[38;5;28mint\u001b[39m(original_fps\u001b[38;5;241m/\u001b[39m\u001b[38;5;241m5\u001b[39m)\n\u001b[0;32m      4\u001b[0m f \u001b[38;5;241m=\u001b[39m \u001b[38;5;241m0\u001b[39m\n",
      "\u001b[1;31mNameError\u001b[0m: name 'cap' is not defined"
     ]
    }
   ],
   "source": [
    "original_fps = int(cap.get(cv2.CAP_PROP_FPS))\n",
    "desired_fps = int(original_fps/5)\n",
    "\n",
    "f = 0\n",
    "while True:\n",
    "    ret, frame = cap.read()\n",
    "\n",
    "    if frame is None:\n",
    "        print(\"Not available\")\n",
    "        break\n",
    "    \n",
    "    frame = cv2.resize(frame, (500, 300))\n",
    "\n",
    "    if f % desired_fps == 0:\n",
    "        cv2.imshow('frame', frame)\n",
    "        if cv2.waitKey(1) == ord('q'):\n",
    "            break\n",
    "    f+=1\n",
    "\n",
    "cap.release()\n",
    "cv2.destroyAllWindows()"
   ]
  },
  {
   "cell_type": "markdown",
   "metadata": {},
   "source": [
    "### Thresholding"
   ]
  },
  {
   "cell_type": "code",
   "execution_count": 157,
   "metadata": {},
   "outputs": [],
   "source": [
    "lucy = cv2.imread(\"Lucy.jpg\")\n",
    "\n",
    "_, lucy = cv2.threshold(cv2.cvtColor(lucy, cv2.COLOR_BGR2GRAY), 127, 255, cv2.THRESH_BINARY)\n",
    "\n",
    "cv2.imshow('lucy', lucy)\n",
    "cv2.waitKey(0)\n",
    "cv2.destroyAllWindows()"
   ]
  }
 ],
 "metadata": {
  "kernelspec": {
   "display_name": "opencv",
   "language": "python",
   "name": "python3"
  },
  "language_info": {
   "codemirror_mode": {
    "name": "ipython",
    "version": 3
   },
   "file_extension": ".py",
   "mimetype": "text/x-python",
   "name": "python",
   "nbconvert_exporter": "python",
   "pygments_lexer": "ipython3",
   "version": "3.12.8"
  }
 },
 "nbformat": 4,
 "nbformat_minor": 2
}
