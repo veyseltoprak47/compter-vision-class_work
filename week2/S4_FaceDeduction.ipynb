{
 "cells": [
  {
   "cell_type": "code",
   "execution_count": 2,
   "id": "d7f45db7",
   "metadata": {},
   "outputs": [],
   "source": [
    "import cv2\n",
    "import numpy as np"
   ]
  },
  {
   "cell_type": "code",
   "execution_count": 5,
   "id": "e9897043",
   "metadata": {},
   "outputs": [],
   "source": [
    "img_path = \"Dog and Cat.jpg\""
   ]
  },
  {
   "cell_type": "markdown",
   "id": "7257b60f",
   "metadata": {},
   "source": [
    "## Make darker"
   ]
  },
  {
   "cell_type": "code",
   "execution_count": null,
   "id": "b4bff8d2-45ef-4331-a272-81a411d24c0f",
   "metadata": {
    "tags": []
   },
   "outputs": [],
   "source": [
    "image = cv2.imread(img_path)\n",
    "img2 = cv2.add(image, np.uint8(np.ones(image.shape)) * 50)\n",
    "image = cv2.resize(img2, (1280, 720))\n",
    "\n",
    "cv2.imshow(\"Rectangle on Image\", image)\n",
    "cv2.waitKey(0)\n",
    "cv2.destroyAllWindows()"
   ]
  },
  {
   "cell_type": "markdown",
   "id": "0e8dd116",
   "metadata": {},
   "source": [
    "## Make Brighter"
   ]
  },
  {
   "cell_type": "code",
   "execution_count": 4,
   "id": "435eb8bd-6a43-4368-ade3-2fd7d6e73f7a",
   "metadata": {},
   "outputs": [],
   "source": [
    "image = cv2.imread(img_path)\n",
    "img2 = cv2.add(image, np.uint8(np.ones(image.shape)) * 200)\n",
    "image = cv2.resize(img2, (1280, 720))\n",
    "\n",
    "cv2.imshow(\"Rectangle on Image\", image)\n",
    "cv2.waitKey(0)\n",
    "cv2.destroyAllWindows()"
   ]
  },
  {
   "cell_type": "markdown",
   "id": "896dacf3-fb9b-44c7-9c0a-2554942c406f",
   "metadata": {},
   "source": [
    "## Multiply & Divide (scalar)"
   ]
  },
  {
   "cell_type": "code",
   "execution_count": 6,
   "id": "d37b674f-2627-4696-bc57-e90fadf774c9",
   "metadata": {},
   "outputs": [],
   "source": [
    "# Make brighter\n",
    "image = cv2.imread(img_path)\n",
    "img2 = cv2.multiply(image, np.uint8(np.ones(image.shape)), scale= 0.5)\n",
    "image = cv2.resize(img2, (1280, 720))\n",
    "\n",
    "cv2.imshow(\"Rectangle on Image\", image)\n",
    "cv2.waitKey(0)\n",
    "cv2.destroyAllWindows()"
   ]
  },
  {
   "cell_type": "code",
   "execution_count": 6,
   "id": "e3069a64-f602-46b1-9bf4-27193d99a1c9",
   "metadata": {},
   "outputs": [],
   "source": [
    "# Make brighter\n",
    "image = cv2.imread(img_path)\n",
    "img2 = cv2.multiply(image, np.uint8(np.ones(image.shape)), scale = 1.5)\n",
    "image = cv2.resize(img2, (1280, 720))\n",
    "\n",
    "cv2.imshow(\"Rectangle on Image\", image)\n",
    "cv2.waitKey(0)\n",
    "cv2.destroyAllWindows()"
   ]
  },
  {
   "cell_type": "markdown",
   "id": "1f0d0461-2e37-42b1-9b01-d73db7fe518a",
   "metadata": {},
   "source": [
    "## Draw Rectangle on Image of dog"
   ]
  },
  {
   "cell_type": "code",
   "execution_count": 8,
   "id": "cb053abb-72a6-4ba5-914e-166a2071f315",
   "metadata": {},
   "outputs": [],
   "source": [
    "image = cv2.imread(img_path)\n",
    "image = cv2.resize(image, (1280, 720))\n",
    " \n",
    "pt1 = (100, 150)\n",
    "pt2 = (410, 400)\n",
    "color = (0, 0, 255)\n",
    "thickness = 4\n",
    "lineType = cv2.LINE_4\n",
    " \n",
    "# rectangle(img, pt1, pt2, color, thickness, lineType, shift)\n",
    "img_rect = cv2.rectangle(image, pt1, pt2, color, thickness, lineType)\n",
    " \n",
    "cv2.imshow(\"Rectangle on Image\", img_rect)\n",
    "cv2.waitKey(0)\n",
    "cv2.destroyAllWindows()"
   ]
  },
  {
   "cell_type": "markdown",
   "id": "9d7993e3-a680-40bd-994c-13b39c397fa3",
   "metadata": {},
   "source": [
    "## Fill Rectangle on Image"
   ]
  },
  {
   "cell_type": "code",
   "execution_count": 9,
   "id": "758bdeab-e6f7-410a-a52e-0add944d6f96",
   "metadata": {},
   "outputs": [],
   "source": [
    "image = cv2.imread(img_path)\n",
    "image = cv2.resize(image, (1280, 720))\n",
    " \n",
    "pt1 = (100, 150)\n",
    "pt2 = (410, 400)\n",
    "color = (255, 0, 0)\n",
    "thickness = -1\n",
    "lineType = cv2.LINE_4\n",
    " \n",
    "# rectangle(img, pt1, pt2, color[, thickness[, lineType[, shift]]])\n",
    "img_rect = cv2.rectangle(image, pt1, pt2, color, thickness, lineType)\n",
    " \n",
    "cv2.imshow(\"Rectangle on Image\", img_rect)\n",
    " \n",
    "cv2.waitKey(0)\n",
    "cv2.destroyAllWindows()"
   ]
  },
  {
   "cell_type": "markdown",
   "id": "34418426-c9f8-4311-999d-19ce0c7ed87c",
   "metadata": {},
   "source": [
    "## Text On Rectangle on Image"
   ]
  },
  {
   "cell_type": "code",
   "execution_count": 10,
   "id": "45a1ef0b-ca08-413a-8c01-b375f7a4c364",
   "metadata": {},
   "outputs": [],
   "source": [
    "image = cv2.imread(img_path)\n",
    "image = cv2.resize(image, (1280, 720))\n",
    " \n",
    "pt1 = (100, 150)\n",
    "pt2 = (410, 400)\n",
    "color = (255, 0, 0)\n",
    "thickness = -1\n",
    "lineType = cv2.LINE_4\n",
    " \n",
    "#rectangle(img, pt1, pt2, color[, thickness[, lineType[, shift]]])\n",
    "img_rect = cv2.rectangle(image, pt1, pt2, color, thickness, lineType)\n",
    " \n",
    "#text on image\n",
    "text = \"Face - 100%\"\n",
    "org = (150, 300)\n",
    "fontFace = cv2.FONT_HERSHEY_SIMPLEX\n",
    "fontScale = 1\n",
    "color = (0,0,25)\n",
    "lineType = cv2.LINE_4\n",
    " \n",
    "#text, org, fontFace, fontScale, color[, thickness\n",
    " \n",
    "img_text = cv2.putText(img_rect, text, org, fontFace, fontScale, color, lineType)\n",
    " \n",
    " \n",
    "cv2.imshow(\"Rectangle on Image\", img_text)\n",
    " \n",
    "cv2.waitKey(0)\n",
    "cv2.destroyAllWindows()"
   ]
  },
  {
   "cell_type": "markdown",
   "id": "3371f2a1-973c-4627-8c41-f7d863cd2e8c",
   "metadata": {},
   "source": [
    "## Text Above Rectangle on Image"
   ]
  },
  {
   "cell_type": "code",
   "execution_count": 11,
   "id": "c70ee07b-1b5a-4f90-bbf5-9c9825c4973c",
   "metadata": {},
   "outputs": [],
   "source": [
    "image = cv2.imread(img_path)\n",
    "image = cv2.resize(image, (1280, 720))\n",
    " \n",
    "pt1 = (100, 150)\n",
    "pt2 = (410, 400)\n",
    "color = (255, 0, 0)\n",
    "thickness = 4\n",
    "lineType = cv2.LINE_4\n",
    " \n",
    "#rectangle(img, pt1, pt2, color[, thickness[, lineType[, shift]]])\n",
    "img_rect = cv2.rectangle(image, pt1, pt2, color, thickness, lineType)\n",
    " \n",
    "#text on image\n",
    "text = \"Face - 100%\"\n",
    "org = (150, 140)\n",
    "fontFace = cv2.FONT_HERSHEY_SIMPLEX\n",
    "fontScale = 1\n",
    "color = (0,255,25)\n",
    "lineType = cv2.LINE_4\n",
    " \n",
    "#text, org, fontFace, fontScale, color[, thickness\n",
    " \n",
    "img_text = cv2.putText(img_rect, text, org, fontFace, fontScale, color, lineType)\n",
    " \n",
    " \n",
    "cv2.imshow(\"Rectangle on Image\", img_text)\n",
    " \n",
    "cv2.waitKey(0)\n",
    "cv2.destroyAllWindows()"
   ]
  },
  {
   "cell_type": "markdown",
   "id": "390a1c49-dce8-4eb3-91a7-854fe8b19803",
   "metadata": {},
   "source": [
    "## Save image"
   ]
  },
  {
   "cell_type": "code",
   "execution_count": 48,
   "id": "d40343fc-e6af-4ea9-accb-a0a4a4c4d12e",
   "metadata": {},
   "outputs": [],
   "source": [
    "image = cv2.imread(img_path)\n",
    "image = cv2.resize(image, (1280, 720))\n",
    " \n",
    "pt1 = (100, 150)\n",
    "pt2 = (410, 400)\n",
    "color = (255, 0, 0)\n",
    "thickness = 4\n",
    "lineType = cv2.LINE_4\n",
    " \n",
    "#rectangle(img, pt1, pt2, color[, thickness[, lineType[, shift]]])\n",
    "img_rect = cv2.rectangle(image, pt1, pt2, color, thickness, lineType)\n",
    " \n",
    "#text on image\n",
    "text = \"Face - 100%\"\n",
    "org = (150, 140)\n",
    "fontFace = cv2.FONT_HERSHEY_SIMPLEX\n",
    "fontScale = 1\n",
    "color = (0,255,25)\n",
    "lineType = cv2.LINE_4\n",
    " \n",
    "#text, org, fontFace, fontScale, color[, thickness\n",
    " \n",
    "img_text = cv2.putText(img_rect, text, org, fontFace, fontScale, color, lineType)\n",
    " \n",
    " \n",
    "cv2.imwrite(\"image_with_rect_text.png\", img_text)\n",
    " \n",
    "cv2.imshow(\"Rectangle on Image\", img_text)\n",
    " \n",
    "cv2.waitKey(0)\n",
    "cv2.destroyAllWindows()"
   ]
  }
 ],
 "metadata": {
  "kernelspec": {
   "display_name": "Python venv_02",
   "language": "python",
   "name": "venv_02"
  },
  "language_info": {
   "codemirror_mode": {
    "name": "ipython",
    "version": 3
   },
   "file_extension": ".py",
   "mimetype": "text/x-python",
   "name": "python",
   "nbconvert_exporter": "python",
   "pygments_lexer": "ipython3",
   "version": "3.9.11"
  }
 },
 "nbformat": 4,
 "nbformat_minor": 5
}
