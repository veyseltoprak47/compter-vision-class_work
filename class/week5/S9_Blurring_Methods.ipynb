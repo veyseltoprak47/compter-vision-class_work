{
 "cells": [
  {
   "cell_type": "markdown",
   "metadata": {},
   "source": [
    "# Blurring\n",
    "\n",
    "This notebook demonstrates various image blurring techniques in OpenCV using different filtering methods. The goal is to compare how each technique smooths an image and reduces noise.\n",
    "\n",
    "\n",
    "- Kernel Blurring (cv2.filter2D): Uses a custom averaging kernel of size 25×25 to smooth the image.\n",
    "\n",
    "- Box Filter (cv2.boxFilter) and Averaging Blur (cv2.blur): Both apply an averaging filter over a region, but cv2.boxFilter() allows normalization control.\n",
    "\n",
    "- Gaussian Blur (cv2.GaussianBlur): Uses a Gaussian function for smoothing, making it less harsh than a simple average filter.\n",
    "\n",
    "- Median Blur (cv2.medianBlur): Replaces each pixel with the median value of its neighborhood.\n",
    "Effective for noise reduction, especially for salt-and-pepper noise.\n",
    "\n",
    "- Bilateral Filter (cv2.bilateralFilter): Reduces noise while preserving edges, unlike other smoothing filters that blur everything."
   ]
  },
  {
   "cell_type": "code",
   "execution_count": null,
   "metadata": {},
   "outputs": [],
   "source": [
    "import cv2\n",
    "import numpy as np\n",
    "\n",
    "img = cv2.imread('S9_Nature_for_Blur.jpg')\n",
    "img = cv2.resize(img,(400,400))\n",
    "rows, cols = img.shape[:2]\n",
    "\n",
    "# Kernel Blurring using filter2D()\n",
    "kernel_25 = np.ones((25,25), np.float32) / 625.0\n",
    "output_kernel = cv2.filter2D(img, -1, kernel_25)\n",
    "\n",
    "# Boxfilter and blur function blurring\n",
    "output_blur = cv2.blur(img, (25,25))\n",
    "output_box = cv2.boxFilter(img, -1, (5,5), normalize=False)\n",
    "\n",
    "# gaussian Blur \n",
    "output_gaus = cv2.GaussianBlur(img, (5,5), 0)\n",
    "\n",
    "# median Bur (reduction of noise)\n",
    "output_med = cv2.medianBlur(img, 5)\n",
    "\n",
    "# Bilateral filtering (Reduction of noise + Preserving of edges)\n",
    "output_bil = cv2.bilateralFilter(img, 5, 6, 6)\n",
    "\n",
    "\n",
    "cv2.putText(img, \"Original\", org=(20,40), fontFace=cv2.FONT_HERSHEY_PLAIN, fontScale= 2, color=(255,0,255) )\n",
    "cv2.putText(output_kernel, \"kernel blur\", org=(20,40), fontFace=cv2.FONT_HERSHEY_PLAIN, fontScale= 2 , color=(255,0,255))\n",
    "cv2.putText(output_blur, \"Blur() output\", org=(20,40), fontFace=cv2.FONT_HERSHEY_PLAIN, fontScale= 2 , color=(255,0,255))\n",
    "cv2.putText(output_box, \"output_box\", org=(20,40), fontFace=cv2.FONT_HERSHEY_PLAIN, fontScale= 2 , color=(255,0,255))\n",
    "cv2.putText(output_gaus, \"Gaussian\", org=(20,40), fontFace=cv2.FONT_HERSHEY_PLAIN, fontScale= 2 , color=(255,0,255))\n",
    "cv2.putText(output_bil, \"Bilateral\", org=(20,40), fontFace=cv2.FONT_HERSHEY_PLAIN, fontScale= 2 , color=(255,0,255))\n",
    "cv2.putText(output_med, \"Median Blur\", org=(20,40), fontFace=cv2.FONT_HERSHEY_PLAIN, fontScale= 2 , color=(255,0,255))\n",
    "\n",
    "img1_3 = np.hstack((img,img, output_kernel, output_blur))\n",
    "img2_3 = np.hstack((output_box, output_gaus,output_bil,output_med))\n",
    " \n",
    "img3_6 = np.vstack((img1_3,img2_3))\n",
    " \n",
    "cv2.imshow(\"1 original and 5 Blur Image\", img3_6)\n",
    "cv2.waitKey(0)\n",
    "cv2.destroyAllWindows()"
   ]
  }
 ],
 "metadata": {
  "kernelspec": {
   "display_name": "Python venv_02",
   "language": "python",
   "name": "venv_02"
  },
  "language_info": {
   "codemirror_mode": {
    "name": "ipython",
    "version": 3
   },
   "file_extension": ".py",
   "mimetype": "text/x-python",
   "name": "python",
   "nbconvert_exporter": "python",
   "pygments_lexer": "ipython3",
   "version": "3.9.11"
  }
 },
 "nbformat": 4,
 "nbformat_minor": 2
}
