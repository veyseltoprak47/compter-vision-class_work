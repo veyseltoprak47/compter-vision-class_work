{
 "cells": [
  {
   "cell_type": "markdown",
   "id": "ae88fba3",
   "metadata": {},
   "source": [
    "# Edge Detection\n",
    "We covered convolution based edge detection techniques.<br>\n",
    "This notebook demonstrates other various edge detection methods in OpenCV, helping to extract structural details from an image.\n",
    "\n",
    "- Sobel Edge Detection (cv2.Sobel)<br>\n",
    "Computes the gradient in X and Y directions separately.<br>\n",
    "cv2.Sobel(image, -1, 1, 0): Detects horizontal edges.<br>\n",
    "cv2.Sobel(image, -1, 0, 1): Detects vertical edges.<br>\n",
    "cv2.addWeighted() is used to combine X and Y gradients for a full edge representation.<br>\n",
    "\n",
    "- Laplacian Edge Detection (cv2.Laplacian)<br>\n",
    "Detects edges by computing the second-order derivatives.<br>\n",
    "Captures both horizontal and vertical edges in a single step.<br>\n",
    "\n",
    "- Canny Edge Detection (cv2.Canny)<br>\n",
    "Uses gradient changes and non-maximum suppression to detect strong edges.<br>\n",
    "Two thresholds (80, 180) define which edges to keep."
   ]
  },
  {
   "cell_type": "code",
   "execution_count": 1,
   "id": "297ce2b3-d8b4-4120-94c0-da877c7b3c27",
   "metadata": {},
   "outputs": [],
   "source": [
    "import cv2\n",
    "import numpy as np\n",
    "\n",
    "\n",
    "image = cv2.imread('S9_Man_in_Nature_for_Edge_Detection.jpg')\n",
    "image= cv2.cvtColor(image, cv2.COLOR_BGR2GRAY)\n",
    "\n",
    "# Sobel\n",
    "gradients_sobelx = cv2.Sobel(image, -1, 1, 0)\n",
    "gradients_sobely = cv2.Sobel(image, -1, 0, 1)\n",
    "gradients_sobelxy = cv2.addWeighted(gradients_sobelx, 0.5, gradients_sobely, 0.5, 0)\n",
    "\n",
    "# Laplacian\n",
    "gradients_laplacian = cv2.Laplacian(image, -1)\n",
    "\n",
    "# Canny\n",
    "canny_output = cv2.Canny(image, 80, 180)\n",
    "\n",
    "cv2.imshow('origional', image)\n",
    "cv2.imshow('Sobel x', gradients_sobelx)\n",
    "cv2.imshow('Sobel y', gradients_sobely)\n",
    "cv2.imshow('Sobel X+y', gradients_sobelxy)\n",
    "cv2.imshow('laplacian', gradients_laplacian)\n",
    "cv2.imshow('Canny', canny_output)\n",
    "cv2.waitKey()\n",
    "cv2.destroyAllWindows()"
   ]
  }
 ],
 "metadata": {
  "kernelspec": {
   "display_name": "Python venv_02",
   "language": "python",
   "name": "venv_02"
  },
  "language_info": {
   "codemirror_mode": {
    "name": "ipython",
    "version": 3
   },
   "file_extension": ".py",
   "mimetype": "text/x-python",
   "name": "python",
   "nbconvert_exporter": "python",
   "pygments_lexer": "ipython3",
   "version": "3.9.11"
  }
 },
 "nbformat": 4,
 "nbformat_minor": 5
}
