{
 "cells": [
  {
   "cell_type": "markdown",
   "id": "ec49f6d7",
   "metadata": {},
   "source": [
    "# Image Sharpening Using Gaussian Blur in OpenCV\n",
    "We studied about how we can apply blurring.\n",
    "This notebook demonstrates how to enhance image sharpness using Gaussian Blur and Weighted Image Addition.<br>\n",
    "\n",
    "Sharpening is achieved using cv2.addWeighted(), which blends the original image with the blurred version:\n",
    "- sharpened1: Mild sharpening (weight 1.5, subtracting 0.5 of blurred image).\n",
    "- sharpened2: Stronger sharpening (weight 3.5, subtracting 2.5 of blurred image).\n",
    "- sharpened3: Aggressive sharpening (weight 7.5, subtracting 6.5 of blurred image)."
   ]
  },
  {
   "cell_type": "code",
   "execution_count": 1,
   "id": "6183a6ae-a23b-4d26-9951-ed35ff14912a",
   "metadata": {},
   "outputs": [],
   "source": [
    "import cv2\n",
    "import numpy as np\n",
    "\n",
    "img = cv2.imread('S9_Nature_for_Sharpening.jpg')\n",
    "\n",
    "# Gauusian kernel for sharpening\n",
    "gaussian_blur = cv2.GaussianBlur(img, (7,7), 2)\n",
    "\n",
    "# Sharpening using addweighted()\n",
    "sharpened1 = cv2.addWeighted(img,1.5, gaussian_blur, -0.5, 0)\n",
    "sharpened2 = cv2.addWeighted(img,3.5, gaussian_blur, -2.5, 0)\n",
    "sharpened3 = cv2.addWeighted(img,7.5, gaussian_blur, -6.5, 0)\n",
    "\n",
    "img = cv2.resize(img, (500, 300))\n",
    "sharpened1 = cv2.resize(sharpened1, (500, 300))\n",
    "sharpened2 = cv2.resize(sharpened2, (500, 300))\n",
    "sharpened3 = cv2.resize(sharpened3, (500, 300))\n",
    "\n",
    "\n",
    "cv2.putText(img, \"Original\", org=(20,40), fontFace=cv2.FONT_HERSHEY_PLAIN, fontScale= 2, color=(255,0,255) )\n",
    "cv2.putText(sharpened1, \"sharpened1\", org=(20,40), fontFace=cv2.FONT_HERSHEY_PLAIN, fontScale= 2 , color=(255,0,255))\n",
    "cv2.putText(sharpened2, \"sharpened2\", org=(20,40), fontFace=cv2.FONT_HERSHEY_PLAIN, fontScale= 2 , color=(255,0,255))\n",
    "cv2.putText(sharpened3, \"sharpened3\", org=(20,40), fontFace=cv2.FONT_HERSHEY_PLAIN, fontScale= 2 , color=(255,0,255))\n",
    "\n",
    "\n",
    "img1_3 = np.hstack((img, sharpened1))\n",
    "img2_3 = np.hstack((sharpened2,sharpened3))\n",
    " \n",
    "img3_6 = np.vstack((img1_3,img2_3))\n",
    " \n",
    "cv2.imshow(\"sharpening\", img3_6)\n",
    "cv2.waitKey(0)\n",
    "cv2.destroyAllWindows()"
   ]
  },
  {
   "cell_type": "code",
   "execution_count": null,
   "id": "999088dd",
   "metadata": {},
   "outputs": [],
   "source": []
  }
 ],
 "metadata": {
  "kernelspec": {
   "display_name": "Python venv_02",
   "language": "python",
   "name": "venv_02"
  },
  "language_info": {
   "codemirror_mode": {
    "name": "ipython",
    "version": 3
   },
   "file_extension": ".py",
   "mimetype": "text/x-python",
   "name": "python",
   "nbconvert_exporter": "python",
   "pygments_lexer": "ipython3",
   "version": "3.9.11"
  }
 },
 "nbformat": 4,
 "nbformat_minor": 5
}
