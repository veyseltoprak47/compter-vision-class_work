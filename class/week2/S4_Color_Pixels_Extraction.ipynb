{
 "cells": [
  {
   "cell_type": "markdown",
   "id": "cbc8a0cd-10aa-47c5-b622-bc7e71b25dc0",
   "metadata": {},
   "source": [
    "## Color Pixels Extraction"
   ]
  },
  {
   "cell_type": "code",
   "execution_count": 2,
   "id": "638a4dd1",
   "metadata": {},
   "outputs": [],
   "source": [
    "import cv2\n",
    "import numpy as np"
   ]
  },
  {
   "cell_type": "code",
   "execution_count": 3,
   "id": "ef3b6265",
   "metadata": {},
   "outputs": [],
   "source": [
    "# Hyperparameters\n",
    "img_path1 = \"S4_Fall_Road.png\"\n",
    "img_path2 = \"S4_Road_Sign.png\"\n",
    "img_path3 = \"S4_Red_Road.png\""
   ]
  },
  {
   "cell_type": "code",
   "execution_count": 5,
   "id": "352adb19-1063-4e77-9dfc-2fe36f8a0369",
   "metadata": {},
   "outputs": [
    {
     "name": "stdout",
     "output_type": "stream",
     "text": [
      "shape of the image: (1599, 3558, 3)\n"
     ]
    }
   ],
   "source": [
    "image1 = cv2.imread(img_path1)\n",
    "print(f\"shape of the image: {image1.shape}\")\n",
    "image1 = cv2.resize(image1, (1280, 720))\n",
    " \n",
    "cv2.imshow(\"Road Image\", image1)\n",
    "cv2.waitKey(0)\n",
    "cv2.destroyAllWindows()"
   ]
  },
  {
   "cell_type": "markdown",
   "id": "eb4daeda",
   "metadata": {},
   "source": [
    "#### Convert to Gray Scale"
   ]
  },
  {
   "cell_type": "code",
   "execution_count": 6,
   "id": "f114d3af-ed9a-45b7-b172-aab17d83a798",
   "metadata": {},
   "outputs": [],
   "source": [
    "\n",
    "gray_image1 = cv2.cvtColor(image1, cv2.COLOR_BGR2GRAY)\n",
    " \n",
    "cv2.imshow(\"Gray Image\", gray_image1)\n",
    "cv2.waitKey(0)\n",
    "cv2.destroyAllWindows()"
   ]
  },
  {
   "cell_type": "markdown",
   "id": "b5b14761",
   "metadata": {},
   "source": [
    "#### Road Margin Detection"
   ]
  },
  {
   "cell_type": "code",
   "execution_count": 8,
   "id": "cf3fad92-53d4-42c2-8784-711ae8e2d110",
   "metadata": {},
   "outputs": [],
   "source": [
    "gray_img1_copy = np.copy(gray_image1)\n",
    " \n",
    "gray_img1_copy[gray_img1_copy[:, :] < 140] = 0\n",
    " \n",
    "cv2.imshow(\"Gray Image\", gray_img1_copy)\n",
    "cv2.waitKey(0)\n",
    "cv2.destroyAllWindows()"
   ]
  },
  {
   "cell_type": "code",
   "execution_count": 9,
   "id": "486a9de6-1880-4df0-945b-4781a299db66",
   "metadata": {},
   "outputs": [],
   "source": [
    "img2 = cv2.imread(img_path2)\n",
    "img2 = cv2.resize(img2, (1280, 720))\n",
    " \n",
    "img_copy = np.copy(img2) \n",
    " \n",
    "img_copy[(img_copy[:,:,0] > 50) | (img_copy[:,:,1] < 100) | (img_copy[:, :, 2] < 150) ] = 0\n",
    " \n",
    "img_2 = np.hstack((cv2.resize(img2, (650, 500)), cv2.resize(img_copy, (650, 500)))) # for showing image beside each other\n",
    "cv2.imshow(\"Yellow Road Image\", img_2)\n",
    "cv2.waitKey(0)\n",
    "cv2.destroyAllWindows()"
   ]
  },
  {
   "cell_type": "markdown",
   "id": "b6b74369",
   "metadata": {},
   "source": [
    "#### Road Detection"
   ]
  },
  {
   "cell_type": "code",
   "execution_count": 10,
   "id": "3a68e987-968b-43cc-ba1b-629c4c6f7559",
   "metadata": {},
   "outputs": [],
   "source": [
    "img3 = cv2.imread(img_path3)\n",
    "img3 = cv2.resize(img3, (1280, 720))\n",
    " \n",
    "img3_copy = np.copy(img3)\n",
    " \n",
    "img3_copy[(img3_copy[:,:,0] > 60) | (img3_copy[:,:,1] > 60) | (img3_copy[:, :, 2] < 80) ]=0\n",
    " \n",
    "img_3 = np.hstack(( cv2.resize(img3, (500, 500)), cv2.resize(img3_copy, (500, 500)) ))\n",
    "\n",
    "cv2.imshow(\"Color Image VS Color Extracted Image\", img_3)\n",
    "cv2.waitKey(0)\n",
    "cv2.destroyAllWindows()"
   ]
  }
 ],
 "metadata": {
  "kernelspec": {
   "display_name": "Python venv_02",
   "language": "python",
   "name": "venv_02"
  },
  "language_info": {
   "codemirror_mode": {
    "name": "ipython",
    "version": 3
   },
   "file_extension": ".py",
   "mimetype": "text/x-python",
   "name": "python",
   "nbconvert_exporter": "python",
   "pygments_lexer": "ipython3",
   "version": "3.9.11"
  }
 },
 "nbformat": 4,
 "nbformat_minor": 5
}
