{
 "cells": [
  {
   "cell_type": "markdown",
   "metadata": {},
   "source": [
    "# Session 2 Codes"
   ]
  },
  {
   "cell_type": "code",
   "execution_count": 1,
   "metadata": {},
   "outputs": [],
   "source": [
    "import cv2\n",
    "import numpy as np"
   ]
  },
  {
   "cell_type": "code",
   "execution_count": 2,
   "metadata": {},
   "outputs": [
    {
     "name": "stdout",
     "output_type": "stream",
     "text": [
      "image array is: [[[218 193 159]\n",
      "  [218 193 159]\n",
      "  [218 193 159]\n",
      "  ...\n",
      "  [207 182 142]\n",
      "  [207 182 142]\n",
      "  [208 183 143]]\n",
      "\n",
      " [[218 193 159]\n",
      "  [218 193 159]\n",
      "  [218 193 159]\n",
      "  ...\n",
      "  [207 182 142]\n",
      "  [208 183 143]\n",
      "  [208 183 143]]\n",
      "\n",
      " [[218 193 159]\n",
      "  [218 193 159]\n",
      "  [218 193 159]\n",
      "  ...\n",
      "  [207 182 142]\n",
      "  [208 183 143]\n",
      "  [209 184 144]]\n",
      "\n",
      " ...\n",
      "\n",
      " [[113 161 167]\n",
      "  [139 184 188]\n",
      "  [147 187 192]\n",
      "  ...\n",
      "  [ 44  99 106]\n",
      "  [120 178 184]\n",
      "  [104 162 168]]\n",
      "\n",
      " [[152 197 201]\n",
      "  [160 203 206]\n",
      "  [170 209 211]\n",
      "  ...\n",
      "  [ 78 133 140]\n",
      "  [102 157 164]\n",
      "  [ 83 138 145]]\n",
      "\n",
      " [[170 213 216]\n",
      "  [179 220 223]\n",
      "  [176 214 216]\n",
      "  ...\n",
      "  [ 85 140 147]\n",
      "  [107 162 171]\n",
      "  [119 172 182]]]\n",
      "image shape is: (637, 979, 3)\n"
     ]
    }
   ],
   "source": [
    "# dependencies\n",
    "\n",
    "\n",
    "# reading image\n",
    "image = cv2.imread(\"komodo.jpg\")\n",
    "print(f\"image array is: {image}\")\n",
    "\n",
    "# showing image\n",
    "cv2.imshow(\"komodo\", image)\n",
    "cv2.waitKey(0)\n",
    "cv2.destroyAllWindows()\n",
    "\n",
    "# saving image\n",
    "cv2.imwrite(\"komodo_green.jpg\", image)\n",
    "\n",
    "# shape of the image\n",
    "print(f\"image shape is: {image.shape}\")\n",
    "\n",
    "# channels\n",
    "green_channel = image[:, :, 1]\n",
    "\n",
    "# slicing\n",
    "image[10:500, 100:600, :] = 0"
   ]
  },
  {
   "cell_type": "code",
   "execution_count": 3,
   "metadata": {},
   "outputs": [
    {
     "ename": "ModuleNotFoundError",
     "evalue": "No module named 'cv2'",
     "output_type": "error",
     "traceback": [
      "\u001b[1;31m---------------------------------------------------------------------------\u001b[0m",
      "\u001b[1;31mModuleNotFoundError\u001b[0m                       Traceback (most recent call last)",
      "Cell \u001b[1;32mIn[3], line 1\u001b[0m\n\u001b[1;32m----> 1\u001b[0m \u001b[38;5;28;01mimport\u001b[39;00m\u001b[38;5;250m \u001b[39m\u001b[38;5;21;01mcv2\u001b[39;00m\n",
      "\u001b[1;31mModuleNotFoundError\u001b[0m: No module named 'cv2'"
     ]
    }
   ],
   "source": [
    "import cv2"
   ]
  }
 ],
 "metadata": {
  "kernelspec": {
   "display_name": "base",
   "language": "python",
   "name": "python3"
  },
  "language_info": {
   "codemirror_mode": {
    "name": "ipython",
    "version": 3
   },
   "file_extension": ".py",
   "mimetype": "text/x-python",
   "name": "python",
   "nbconvert_exporter": "python",
   "pygments_lexer": "ipython3",
   "version": "3.12.7"
  }
 },
 "nbformat": 4,
 "nbformat_minor": 2
}
